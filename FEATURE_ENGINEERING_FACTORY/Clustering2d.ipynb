{
 "cells": [
  {
   "cell_type": "code",
   "execution_count": 1,
   "metadata": {
    "collapsed": true
   },
   "outputs": [],
   "source": [
    "import pandas as pd\n",
    "import  numpy as np \n",
    "import math"
   ]
  },
  {
   "cell_type": "code",
   "execution_count": 3,
   "metadata": {
    "collapsed": true
   },
   "outputs": [],
   "source": [
    "train=pd.read_csv('trainKinetic.csv')"
   ]
  },
  {
   "cell_type": "code",
   "execution_count": 14,
   "metadata": {},
   "outputs": [
    {
     "data": {
      "text/html": [
       "<div>\n",
       "<table border=\"1\" class=\"dataframe\">\n",
       "  <thead>\n",
       "    <tr style=\"text-align: right;\">\n",
       "      <th></th>\n",
       "      <th>id</th>\n",
       "      <th>timestamp</th>\n",
       "      <th>full_sq</th>\n",
       "      <th>life_sq</th>\n",
       "      <th>floor</th>\n",
       "      <th>max_floor</th>\n",
       "      <th>material</th>\n",
       "      <th>build_year</th>\n",
       "      <th>num_room</th>\n",
       "      <th>kitch_sq</th>\n",
       "      <th>...</th>\n",
       "      <th>cafe_count_5000_price_2500</th>\n",
       "      <th>cafe_count_5000_price_4000</th>\n",
       "      <th>cafe_count_5000_price_high</th>\n",
       "      <th>big_church_count_5000</th>\n",
       "      <th>church_count_5000</th>\n",
       "      <th>mosque_count_5000</th>\n",
       "      <th>leisure_count_5000</th>\n",
       "      <th>sport_count_5000</th>\n",
       "      <th>market_count_5000</th>\n",
       "      <th>price_doc</th>\n",
       "    </tr>\n",
       "  </thead>\n",
       "  <tbody>\n",
       "    <tr>\n",
       "      <th>0</th>\n",
       "      <td>1</td>\n",
       "      <td>2011-08-20</td>\n",
       "      <td>43</td>\n",
       "      <td>27.0</td>\n",
       "      <td>4.0</td>\n",
       "      <td>0.10838</td>\n",
       "      <td>0.493169</td>\n",
       "      <td>0.01998</td>\n",
       "      <td>0.334164</td>\n",
       "      <td>0.126191</td>\n",
       "      <td>...</td>\n",
       "      <td>9</td>\n",
       "      <td>4</td>\n",
       "      <td>0</td>\n",
       "      <td>13</td>\n",
       "      <td>22</td>\n",
       "      <td>1</td>\n",
       "      <td>0</td>\n",
       "      <td>52</td>\n",
       "      <td>4</td>\n",
       "      <td>5850000</td>\n",
       "    </tr>\n",
       "    <tr>\n",
       "      <th>1</th>\n",
       "      <td>2</td>\n",
       "      <td>2011-08-23</td>\n",
       "      <td>34</td>\n",
       "      <td>19.0</td>\n",
       "      <td>3.0</td>\n",
       "      <td>0.10838</td>\n",
       "      <td>0.493169</td>\n",
       "      <td>0.01998</td>\n",
       "      <td>0.334164</td>\n",
       "      <td>0.126191</td>\n",
       "      <td>...</td>\n",
       "      <td>15</td>\n",
       "      <td>3</td>\n",
       "      <td>0</td>\n",
       "      <td>15</td>\n",
       "      <td>29</td>\n",
       "      <td>1</td>\n",
       "      <td>10</td>\n",
       "      <td>66</td>\n",
       "      <td>14</td>\n",
       "      <td>6000000</td>\n",
       "    </tr>\n",
       "    <tr>\n",
       "      <th>2</th>\n",
       "      <td>3</td>\n",
       "      <td>2011-08-27</td>\n",
       "      <td>43</td>\n",
       "      <td>29.0</td>\n",
       "      <td>2.0</td>\n",
       "      <td>0.10838</td>\n",
       "      <td>0.493169</td>\n",
       "      <td>0.01998</td>\n",
       "      <td>0.334164</td>\n",
       "      <td>0.126191</td>\n",
       "      <td>...</td>\n",
       "      <td>10</td>\n",
       "      <td>3</td>\n",
       "      <td>0</td>\n",
       "      <td>11</td>\n",
       "      <td>27</td>\n",
       "      <td>0</td>\n",
       "      <td>4</td>\n",
       "      <td>67</td>\n",
       "      <td>10</td>\n",
       "      <td>5700000</td>\n",
       "    </tr>\n",
       "  </tbody>\n",
       "</table>\n",
       "<p>3 rows × 272 columns</p>\n",
       "</div>"
      ],
      "text/plain": [
       "   id   timestamp  full_sq  life_sq  floor  max_floor  material  build_year  \\\n",
       "0   1  2011-08-20       43     27.0    4.0    0.10838  0.493169     0.01998   \n",
       "1   2  2011-08-23       34     19.0    3.0    0.10838  0.493169     0.01998   \n",
       "2   3  2011-08-27       43     29.0    2.0    0.10838  0.493169     0.01998   \n",
       "\n",
       "   num_room  kitch_sq    ...      cafe_count_5000_price_2500  \\\n",
       "0  0.334164  0.126191    ...                               9   \n",
       "1  0.334164  0.126191    ...                              15   \n",
       "2  0.334164  0.126191    ...                              10   \n",
       "\n",
       "  cafe_count_5000_price_4000 cafe_count_5000_price_high  \\\n",
       "0                          4                          0   \n",
       "1                          3                          0   \n",
       "2                          3                          0   \n",
       "\n",
       "   big_church_count_5000  church_count_5000  mosque_count_5000  \\\n",
       "0                     13                 22                  1   \n",
       "1                     15                 29                  1   \n",
       "2                     11                 27                  0   \n",
       "\n",
       "   leisure_count_5000  sport_count_5000  market_count_5000  price_doc  \n",
       "0                   0                52                  4    5850000  \n",
       "1                  10                66                 14    6000000  \n",
       "2                   4                67                 10    5700000  \n",
       "\n",
       "[3 rows x 272 columns]"
      ]
     },
     "execution_count": 14,
     "metadata": {},
     "output_type": "execute_result"
    }
   ],
   "source": [
    "train.head(3)"
   ]
  },
  {
   "cell_type": "code",
   "execution_count": 5,
   "metadata": {
    "collapsed": true
   },
   "outputs": [],
   "source": [
    "import scipy.stats"
   ]
  },
  {
   "cell_type": "code",
   "execution_count": 8,
   "metadata": {},
   "outputs": [
    {
     "data": {
      "text/plain": [
       "(0.34184045975381705, 0.0)"
      ]
     },
     "execution_count": 8,
     "metadata": {},
     "output_type": "execute_result"
    }
   ],
   "source": [
    "scipy.stats.pearsonr(train['price_doc'],train['full_sq'])"
   ]
  },
  {
   "cell_type": "code",
   "execution_count": 9,
   "metadata": {},
   "outputs": [
    {
     "data": {
      "text/plain": [
       "(0.1717147631802001, 2.5351155712070379e-200)"
      ]
     },
     "execution_count": 9,
     "metadata": {},
     "output_type": "execute_result"
    }
   ],
   "source": [
    "scipy.stats.pearsonr(train['price_doc'],train['life_sq'])"
   ]
  },
  {
   "cell_type": "code",
   "execution_count": 10,
   "metadata": {},
   "outputs": [
    {
     "data": {
      "text/plain": [
       "(0.35748423509921823, 0.0)"
      ]
     },
     "execution_count": 10,
     "metadata": {},
     "output_type": "execute_result"
    }
   ],
   "source": [
    "scipy.stats.pearsonr(train['price_doc'],train['num_room'])                                                 "
   ]
  },
  {
   "cell_type": "code",
   "execution_count": 11,
   "metadata": {},
   "outputs": [
    {
     "data": {
      "text/plain": [
       "(0.23738723337722459, 0.0)"
      ]
     },
     "execution_count": 11,
     "metadata": {},
     "output_type": "execute_result"
    }
   ],
   "source": [
    "scipy.stats.pearsonr(train['full_sq'],train['num_room'])    "
   ]
  },
  {
   "cell_type": "code",
   "execution_count": 215,
   "metadata": {},
   "outputs": [],
   "source": [
    "class Cluster :\n",
    "    def __init__(self,full ,room,idx):\n",
    "        \"\"\"\n",
    "        Created a cluster  based on  full_sq and  num_room\n",
    "        \"\"\"\n",
    "        self._idx={idx}\n",
    "        self._full=full\n",
    "        self._room=room\n",
    "        #self._idx.append(idx)#adding  ids   to    be able  to   flag then  the   features  based on corresponding clustering\n",
    "    def  full(self):\n",
    "        return self._full\n",
    "    def  room(self):\n",
    "        return self._room\n",
    "    def  idx(self):\n",
    "        return self._idx\n",
    "    def copy(self):\n",
    "        \"\"\"\n",
    "        returns  a copy of a  cluster\n",
    "        \"\"\"\n",
    "        copy_cluster=Cluster(self._idx,self._room, self._idx)\n",
    "    def distance(self,other_cluster):\n",
    "        \"\"\"\n",
    "        computes     euclidean distance between  2  clusters \n",
    "        \"\"\"\n",
    "        x_dist=self._full-other_cluster.full()\n",
    "        y_dist=self._room-other_cluster.room()\n",
    "        return  math.sqrt(x_dist**2+y_dist**2)\n",
    "    def merge_clusters(self,other_cluster):\n",
    "        \"\"\"\n",
    "        Merge one cluster   into another\n",
    "        \"\"\"\n",
    "        if len(other_cluster._idx)==0:\n",
    "            return  self\n",
    "        else:\n",
    "            #add  idx :\n",
    "            self._idx=self._idx.union(other_cluster.idx())\n",
    "            #compute new cluster  centers\n",
    "            \"\"\" The  centroid  of new cluster    is   give  by:\n",
    "            the point(X',Y'),\n",
    "            where :\n",
    "            X':=sum_from_i_to_m(Xi)/m\n",
    "            Y':=sum_from_i_to_m(Yi)/m       \n",
    "            recall that full from   full_sq and  room  from   num_romm  features  are  our points\n",
    "            \"\"\"\n",
    "            self._full=(self._full+other_cluster.full())/2\n",
    "            self._room=(self._room+other_cluster.room())/2\n",
    "            return self"
   ]
  },
  {
   "cell_type": "code",
   "execution_count": 216,
   "metadata": {
    "collapsed": true
   },
   "outputs": [],
   "source": [
    "#Loocking at some examples"
   ]
  },
  {
   "cell_type": "code",
   "execution_count": 217,
   "metadata": {},
   "outputs": [
    {
     "data": {
      "text/html": [
       "<div>\n",
       "<table border=\"1\" class=\"dataframe\">\n",
       "  <thead>\n",
       "    <tr style=\"text-align: right;\">\n",
       "      <th></th>\n",
       "      <th>id</th>\n",
       "      <th>full_sq</th>\n",
       "      <th>num_room</th>\n",
       "    </tr>\n",
       "  </thead>\n",
       "  <tbody>\n",
       "    <tr>\n",
       "      <th>0</th>\n",
       "      <td>1</td>\n",
       "      <td>43</td>\n",
       "      <td>0.334164</td>\n",
       "    </tr>\n",
       "    <tr>\n",
       "      <th>1</th>\n",
       "      <td>2</td>\n",
       "      <td>34</td>\n",
       "      <td>0.334164</td>\n",
       "    </tr>\n",
       "    <tr>\n",
       "      <th>2</th>\n",
       "      <td>3</td>\n",
       "      <td>43</td>\n",
       "      <td>0.334164</td>\n",
       "    </tr>\n",
       "  </tbody>\n",
       "</table>\n",
       "</div>"
      ],
      "text/plain": [
       "   id  full_sq  num_room\n",
       "0   1       43  0.334164\n",
       "1   2       34  0.334164\n",
       "2   3       43  0.334164"
      ]
     },
     "execution_count": 217,
     "metadata": {},
     "output_type": "execute_result"
    }
   ],
   "source": [
    "train[['id','full_sq','num_room']].head(3)"
   ]
  },
  {
   "cell_type": "code",
   "execution_count": 218,
   "metadata": {},
   "outputs": [
    {
     "data": {
      "text/plain": [
       "id                 1\n",
       "full_sq           43\n",
       "num_room    0.334164\n",
       "Name: 0, dtype: object"
      ]
     },
     "execution_count": 218,
     "metadata": {},
     "output_type": "execute_result"
    }
   ],
   "source": [
    "point=train.loc[0,['id','full_sq','num_room']]#brings a series\n",
    "point"
   ]
  },
  {
   "cell_type": "code",
   "execution_count": 219,
   "metadata": {},
   "outputs": [],
   "source": [
    "point_0=Cluster(point[1],point[2],point[0])"
   ]
  },
  {
   "cell_type": "code",
   "execution_count": 220,
   "metadata": {},
   "outputs": [
    {
     "data": {
      "text/plain": [
       "{1}"
      ]
     },
     "execution_count": 220,
     "metadata": {},
     "output_type": "execute_result"
    }
   ],
   "source": [
    "point_0.idx()"
   ]
  },
  {
   "cell_type": "code",
   "execution_count": 221,
   "metadata": {},
   "outputs": [
    {
     "data": {
      "text/plain": [
       "43"
      ]
     },
     "execution_count": 221,
     "metadata": {},
     "output_type": "execute_result"
    }
   ],
   "source": [
    "point_0.full()"
   ]
  },
  {
   "cell_type": "code",
   "execution_count": 222,
   "metadata": {},
   "outputs": [
    {
     "data": {
      "text/plain": [
       "0.33416368377055905"
      ]
     },
     "execution_count": 222,
     "metadata": {},
     "output_type": "execute_result"
    }
   ],
   "source": [
    "point_0.room()"
   ]
  },
  {
   "cell_type": "code",
   "execution_count": 223,
   "metadata": {},
   "outputs": [
    {
     "name": "stdout",
     "output_type": "stream",
     "text": [
      "id                 2\n",
      "full_sq           34\n",
      "num_room    0.334164\n",
      "Name: 1, dtype: object\n"
     ]
    }
   ],
   "source": [
    "point=train.loc[1,['id','full_sq','num_room']]#brings a series\n",
    "print(point)\n",
    "point_1=Cluster(point[1],point[2],point[0])"
   ]
  },
  {
   "cell_type": "code",
   "execution_count": 224,
   "metadata": {},
   "outputs": [
    {
     "data": {
      "text/plain": [
       "{2}"
      ]
     },
     "execution_count": 224,
     "metadata": {},
     "output_type": "execute_result"
    }
   ],
   "source": [
    "point_1.idx()"
   ]
  },
  {
   "cell_type": "code",
   "execution_count": 225,
   "metadata": {
    "collapsed": true
   },
   "outputs": [],
   "source": [
    "###################################testing if  THE  merging is OK =)))############################################"
   ]
  },
  {
   "cell_type": "code",
   "execution_count": 226,
   "metadata": {},
   "outputs": [
    {
     "data": {
      "text/plain": [
       "9.0"
      ]
     },
     "execution_count": 226,
     "metadata": {},
     "output_type": "execute_result"
    }
   ],
   "source": [
    "point_0.distance(point_1)"
   ]
  },
  {
   "cell_type": "code",
   "execution_count": 227,
   "metadata": {},
   "outputs": [],
   "source": [
    "new_clust=point_0.merge_clusters(point_1)"
   ]
  },
  {
   "cell_type": "code",
   "execution_count": 228,
   "metadata": {},
   "outputs": [
    {
     "data": {
      "text/plain": [
       "{1, 2}"
      ]
     },
     "execution_count": 228,
     "metadata": {},
     "output_type": "execute_result"
    }
   ],
   "source": [
    "new_clust._idx"
   ]
  },
  {
   "cell_type": "code",
   "execution_count": 229,
   "metadata": {},
   "outputs": [
    {
     "data": {
      "text/plain": [
       "0.33416368377055905"
      ]
     },
     "execution_count": 229,
     "metadata": {},
     "output_type": "execute_result"
    }
   ],
   "source": [
    "new_clust.room()"
   ]
  },
  {
   "cell_type": "code",
   "execution_count": 230,
   "metadata": {},
   "outputs": [
    {
     "data": {
      "text/plain": [
       "38.5"
      ]
     },
     "execution_count": 230,
     "metadata": {},
     "output_type": "execute_result"
    }
   ],
   "source": [
    "new_clust.full()"
   ]
  },
  {
   "cell_type": "code",
   "execution_count": 232,
   "metadata": {
    "collapsed": true
   },
   "outputs": [],
   "source": [
    "####################################################################################################################"
   ]
  },
  {
   "cell_type": "code",
   "execution_count": 233,
   "metadata": {
    "collapsed": true
   },
   "outputs": [],
   "source": [
    "import math"
   ]
  },
  {
   "cell_type": "code",
   "execution_count": 237,
   "metadata": {
    "collapsed": true
   },
   "outputs": [],
   "source": [
    "import  math\n",
    "def slow_closest_pair(cluster_list):\n",
    "    minimum_point=(math.inf,-1,-1)\n",
    "    for  index1 in range(0,len(cluster_list)):\n",
    "        for index2 in  range(0,len(cluster_list)):\n",
    "          \n",
    "            if index1<index2:\n",
    "                \n",
    "                if cluster_list[index1].distance(cluster_list[index2])<minimum_point[0]:\n",
    "                    minimum_point=(cluster_list[index1].distance(cluster_list[index2]),index1,index2)\n",
    "        \n",
    "    return minimum_point"
   ]
  },
  {
   "cell_type": "code",
   "execution_count": 310,
   "metadata": {},
   "outputs": [
    {
     "name": "stdout",
     "output_type": "stream",
     "text": [
      "id               201\n",
      "full_sq           38\n",
      "num_room    0.334164\n",
      "Name: 200, dtype: object\n"
     ]
    }
   ],
   "source": [
    "point=train.loc[200,['id','full_sq','num_room']]#brings a series\n",
    "print(point)\n",
    "point_2=Cluster(point[1],point[2],point[0])\n",
    "cluster_list=[point_0,point_1,point_2]"
   ]
  },
  {
   "cell_type": "code",
   "execution_count": 291,
   "metadata": {},
   "outputs": [
    {
     "data": {
      "text/plain": [
       "(1.875, 0, 2)"
      ]
     },
     "execution_count": 291,
     "metadata": {},
     "output_type": "execute_result"
    }
   ],
   "source": [
    "slow_closest_pair(cluster_list)"
   ]
  },
  {
   "cell_type": "code",
   "execution_count": 299,
   "metadata": {
    "collapsed": true
   },
   "outputs": [],
   "source": [
    "def hierarchical_clustering(cluster_list, num_clusters) :\n",
    "  \n",
    "    clusters=cluster_list\n",
    "    while len(clusters)>num_clusters:\n",
    " \n",
    "        closest_points=slow_closest_pair(clusters)\n",
    "        clusters[closest_points[1]].merge_clusters(clusters[closest_points[2]])\n",
    "        clusters.pop(closest_points[2])\n",
    " \n",
    "    return cluster_list"
   ]
  },
  {
   "cell_type": "code",
   "execution_count": 311,
   "metadata": {},
   "outputs": [],
   "source": [
    "hc=hierarchical_clustering(cluster_list, 2)"
   ]
  },
  {
   "cell_type": "code",
   "execution_count": 320,
   "metadata": {},
   "outputs": [],
   "source": [
    "cluster_list=[]\n",
    "for  row in range(train.shape[0]):\n",
    "    point=train.loc[row,['id','full_sq','num_room']]\n",
    "    point_cluster=Cluster(point[1],point[2],point[0])\n",
    "    cluster_list.append(point_cluster)\n",
    " \n",
    "    "
   ]
  },
  {
   "cell_type": "code",
   "execution_count": null,
   "metadata": {},
   "outputs": [],
   "source": [
    "hc=hierarchical_clustering(cluster_list, 13)"
   ]
  },
  {
   "cell_type": "code",
   "execution_count": null,
   "metadata": {
    "collapsed": true
   },
   "outputs": [],
   "source": []
  }
 ],
 "metadata": {
  "kernelspec": {
   "display_name": "Python 3",
   "language": "python",
   "name": "python3"
  },
  "language_info": {
   "codemirror_mode": {
    "name": "ipython",
    "version": 3
   },
   "file_extension": ".py",
   "mimetype": "text/x-python",
   "name": "python",
   "nbconvert_exporter": "python",
   "pygments_lexer": "ipython3",
   "version": "3.6.0"
  }
 },
 "nbformat": 4,
 "nbformat_minor": 2
}
